{
 "cells": [
  {
   "cell_type": "code",
   "execution_count": 15,
   "id": "f589f47c-9409-438d-9cbd-cdf22c8b92a1",
   "metadata": {},
   "outputs": [],
   "source": [
    "# pip install langchain\n",
    "# pip install langchain"
   ]
  },
  {
   "cell_type": "code",
   "execution_count": 16,
   "id": "96fa72ae-f24d-43ed-9619-910c599ea3b8",
   "metadata": {},
   "outputs": [],
   "source": [
    "# pip install langchain_community"
   ]
  },
  {
   "cell_type": "code",
   "execution_count": 17,
   "id": "38070b9a-108f-4073-b087-6c41498b795e",
   "metadata": {},
   "outputs": [],
   "source": [
    "from langchain_community.llms import Ollama\n",
    "llm = Ollama(model=\"llama2\")"
   ]
  },
  {
   "cell_type": "code",
   "execution_count": 18,
   "id": "8fdce3e8-a15e-46ba-8b80-4490a2e772eb",
   "metadata": {},
   "outputs": [
    {
     "data": {
      "text/plain": [
       "Ollama()"
      ]
     },
     "execution_count": 18,
     "metadata": {},
     "output_type": "execute_result"
    }
   ],
   "source": [
    "llm"
   ]
  },
  {
   "cell_type": "code",
   "execution_count": 19,
   "id": "2d47c505-30c1-4c85-a211-1fbd521e8416",
   "metadata": {},
   "outputs": [
    {
     "data": {
      "text/plain": [
       "\"I am a text-based AI language model and I don't have real-time access to current weather conditions. However, I can tell you the current weather conditions for a specific location if you provide me with the city or zip code. Alternatively, you can check the weather forecast for your location on a website or app that provides real-time weather information, such as weather.com or a local news station's website.\""
      ]
     },
     "execution_count": 19,
     "metadata": {},
     "output_type": "execute_result"
    }
   ],
   "source": [
    "llm.invoke(\"what's the weather today\")"
   ]
  },
  {
   "cell_type": "code",
   "execution_count": 20,
   "id": "20709e72-ddcd-441b-9e4b-4e1f5f10a039",
   "metadata": {},
   "outputs": [],
   "source": [
    "from langchain.chains import LLMChain\n",
    "from langchain.prompts import PromptTemplate"
   ]
  },
  {
   "cell_type": "code",
   "execution_count": 21,
   "id": "ff353d77-0613-40f4-a397-7a67347c884c",
   "metadata": {},
   "outputs": [],
   "source": [
    "prompt = PromptTemplate(\n",
    "    input_variables=['food'],\n",
    "    template=\"Give me some good places where {food} is famous\"\n",
    ")"
   ]
  },
  {
   "cell_type": "code",
   "execution_count": 22,
   "id": "01516569-8793-4edb-aac9-c56360d78e0a",
   "metadata": {},
   "outputs": [],
   "source": [
    "chain = LLMChain(llm = llm, prompt = prompt)"
   ]
  },
  {
   "cell_type": "code",
   "execution_count": 24,
   "id": "e6591104-f8f9-49e0-bf37-7bba03e9f18c",
   "metadata": {},
   "outputs": [
    {
     "name": "stdout",
     "output_type": "stream",
     "text": [
      "{'food': 'bacon', 'text': \"\\nBacon is a popular food item that is enjoyed in many parts of the world. Here are some places where bacon is particularly famous or well-known:\\n\\n1. Canada - Canada is known for producing some of the highest quality bacon in the world, with the country's pork industry being one of the largest in the world. Ontario and Quebec are particularly famous for their bacon.\\n2. Ireland - Ireland is famous for its Bacon, particularly the smoked back bacon that is a staple of Irish cuisine. The country is home to many artisanal bacon producers who use traditional methods to produce high-quality bacon.\\n3. United States - The United States is known for its love of bacon, with many different regions having their own unique styles of bacon. Some of the most famous types of bacon in the US include applewood-smoked bacon from North Carolina, maple-glazzed bacon from Vermont, and peppered bacon from Texas.\\n4. Japan - Japan is famous for its high-quality pork products, including bacon. The country's pork industry is known for producing some of the most tender and flavorful bacon in the world.\\n5. Denmark - Denmark is home to a number of artisanal bacon producers who use traditional methods to produce high-quality bacon. The country is particularly famous for its nitrate-free bacon, which is made using natural ingredients and without the use of artificial preservatives.\\n6. Belgium - Belgium is known for its love of pork products, including bacon. The country is home to many artisanal bacon producers who use traditional methods to produce high-quality bacon. Some of the most famous types of bacon in Belgium include smoked bacon and applewood-smoked bacon.\\n7. Australia - Australia is known for its high-quality pork products, including bacon. The country is particularly famous for its peppered bacon, which is made using a special blend of spices that gives the bacon a distinctive flavor.\\n8. New Zealand - New Zealand is home to many artisanal bacon producers who use traditional methods to produce high-quality bacon. The country is particularly famous for its smoked bacon, which is made using a slow-smoking process that gives the bacon a rich, savory flavor.\\n9. Scotland - Scotland is known for its love of bacon, with many different regions having their own unique styles of bacon. Some of the most famous types of bacon in Scotland include smoked back bacon and honey-glazed bacon.\\n10. Spain - Spain is famous for its cured meats, including bacon. The country's pork industry is known for producing some of the most flavorful and high-quality bacon in the world. Some of the most famous types of bacon in Spain include jamon iberico and chorizo.\\n\\nThese are just a few examples of places where bacon is particularly famous or well-known. Bacon is enjoyed in many different parts of the world, and there are countless other regions that are known for their high-quality bacon products.\"}\n"
     ]
    }
   ],
   "source": [
    "print(chain.invoke('bacon'))"
   ]
  },
  {
   "cell_type": "code",
   "execution_count": 25,
   "id": "b6c32b33-004f-499b-b639-44fc5bc5a142",
   "metadata": {},
   "outputs": [],
   "source": [
    "prompt=\"\"\"\n",
    "hello\n",
    "\"\"\""
   ]
  },
  {
   "cell_type": "code",
   "execution_count": 26,
   "id": "c684768c-c750-4d5d-a362-b9f489ea44ae",
   "metadata": {},
   "outputs": [
    {
     "data": {
      "text/plain": [
       "'\\nhello\\n'"
      ]
     },
     "execution_count": 26,
     "metadata": {},
     "output_type": "execute_result"
    }
   ],
   "source": [
    "prompt"
   ]
  },
  {
   "cell_type": "code",
   "execution_count": null,
   "id": "112f4255-42b5-4ef8-89c6-8148f738da6a",
   "metadata": {},
   "outputs": [],
   "source": [
    "print(prompt)"
   ]
  }
 ],
 "metadata": {
  "kernelspec": {
   "display_name": "Python 3 (ipykernel)",
   "language": "python",
   "name": "python3"
  },
  "language_info": {
   "codemirror_mode": {
    "name": "ipython",
    "version": 3
   },
   "file_extension": ".py",
   "mimetype": "text/x-python",
   "name": "python",
   "nbconvert_exporter": "python",
   "pygments_lexer": "ipython3",
   "version": "3.12.3"
  }
 },
 "nbformat": 4,
 "nbformat_minor": 5
}
